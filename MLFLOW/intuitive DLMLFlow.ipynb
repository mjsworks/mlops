{
 "cells": [
  {
   "cell_type": "markdown",
   "id": "b002f2de-39b3-479a-bc62-1b3c979d24fe",
   "metadata": {},
   "source": [
    "## Quickstart for MLFlow in Deep Learning Models. I will compare runs, choose a model, and deploy in a REST API.\n",
    "\n",
    "Objectives:\n",
    "- run a hyperparam sweep on a training script\n",
    "- compare the results of runs in MLFlow UI\n",
    "- Choose the best run and register the model\n",
    "- Deploy to a REST API\n",
    "- Build a container imagesuitable for deployment to a cloud platform\n",
    "  "
   ]
  },
  {
   "cell_type": "markdown",
   "id": "103433b4-4fb6-435b-8e28-0596483bfff0",
   "metadata": {},
   "source": [
    "## Import, Version and SEED"
   ]
  },
  {
   "cell_type": "code",
   "execution_count": 1,
   "id": "1c982198-912a-4588-805d-6bcc3fcb6d61",
   "metadata": {},
   "outputs": [
    {
     "name": "stdout",
     "output_type": "stream",
     "text": [
      "Keras version: 3.11.1\n",
      "TensorFlow version: 2.19.0\n"
     ]
    }
   ],
   "source": [
    "import os, random\n",
    "import pandas as pd\n",
    "import numpy as np\n",
    "\n",
    "from sklearn.model_selection import train_test_split\n",
    "\n",
    "from hyperopt import fmin, tpe, hp, STATUS_OK, Trials\n",
    "\n",
    "from keras import layers\n",
    "\n",
    "import mlflow\n",
    "from mlflow.models import infer_signature\n",
    "\n",
    "import keras\n",
    "print(f\"Keras version: {keras.__version__}\")\n",
    "import tensorflow as tf\n",
    "print(f\"TensorFlow version: {tf.__version__}\")\n",
    "\n",
    "from datetime import datetime\n",
    "\n",
    "# Making sure of reproducibility\n",
    "SEED = 42\n",
    "random.seed(SEED)\n",
    "np.random.seed(SEED)\n",
    "tf.random.set_seed(SEED)"
   ]
  },
  {
   "cell_type": "markdown",
   "id": "4c76fa94-1b9c-408d-8639-3430709df3ec",
   "metadata": {},
   "source": [
    "## Config"
   ]
  },
  {
   "cell_type": "code",
   "execution_count": 2,
   "id": "7fbe56d1-d611-4baa-85f4-f177ec6df021",
   "metadata": {},
   "outputs": [],
   "source": [
    "TRACKING_URI = \"http://127.0.0.1:5000\"\n",
    "EXPERIMENT_NAME = \"Wine Quality REDO\"\n",
    "EPOCHS = 3\n",
    "BATCH_SIZE = 64\n",
    "MAX_EVALS = 4\n",
    "\n",
    "HYPERPARAM_SPACE = {\n",
    "    \"lr\": hp.loguniform(\"lr\", np.log(1e-5), np.log(1e-1)),\n",
    "    \"momentum\": hp.uniform(\"momentum\", 0.0, 1.0)\n",
    "}"
   ]
  },
  {
   "cell_type": "markdown",
   "id": "ff0af211-3b54-4dcb-906f-136df7cc410a",
   "metadata": {},
   "source": [
    "## Wire MLFlow"
   ]
  },
  {
   "cell_type": "code",
   "execution_count": 3,
   "id": "8feef8f9-0210-4b1d-ba25-d9d70766d2e5",
   "metadata": {},
   "outputs": [],
   "source": [
    "# set the tracking uri\n",
    "mlflow.set_tracking_uri(TRACKING_URI)\n",
    "\n",
    "# set the experiment name\n",
    "mlflow.set_experiment(EXPERIMENT_NAME)\n",
    "\n",
    "# set the global tags for the parent session\n",
    "mlflow.set_tags({\n",
    "    \"project\": \"wine-quality-redo\",\n",
    "    \"framework\": \"keras\",\n",
    "    \"orchestrator\": \"hyperopt\",\n",
    "})"
   ]
  },
  {
   "cell_type": "markdown",
   "id": "7839fd05-9475-4b92-9618-e796bb43a4dc",
   "metadata": {},
   "source": [
    "## load and split the data"
   ]
  },
  {
   "cell_type": "code",
   "execution_count": 4,
   "id": "8a8d8599-e86d-4257-ad8a-0683a62ced37",
   "metadata": {},
   "outputs": [
    {
     "name": "stdout",
     "output_type": "stream",
     "text": [
      "shape of the training data: row-> 3134, columns-> 11\n",
      "shape of the validation data: row-> 784, columns-> 11\n",
      "shape of the test data: row-> 980, columns-> 11\n"
     ]
    }
   ],
   "source": [
    "# read the dataset\n",
    "data=pd.read_csv(\n",
    "    \"https://raw.githubusercontent.com/mlflow/mlflow/master/tests/datasets/winequality-white.csv\",\n",
    "    sep=\";\",\n",
    ")\n",
    "\n",
    "# get the dependent and independent part\n",
    "X = data.drop(columns=[\"quality\"])\n",
    "y = data.quality\n",
    "\n",
    "# though keras accepts DataFrames, still converting to numpy arrays\n",
    "X = X.values\n",
    "y = y.values\n",
    "\n",
    "# split into train test validation\n",
    "X_train_val, X_test, y_train_val, y_test = train_test_split(X,y, random_state=42, test_size=0.20, stratify=y)\n",
    "X_train,X_val, y_train, y_val = train_test_split(X_train_val,y_train_val, random_state=42, test_size=0.20, stratify=y_train_val)\n",
    "\n",
    "print(f\"shape of the training data: row-> {X_train.shape[0]}, columns-> {X_train.shape[1]}\")\n",
    "print(f\"shape of the validation data: row-> {X_val.shape[0]}, columns-> {X_val.shape[1]}\")\n",
    "print(f\"shape of the test data: row-> {X_test.shape[0]}, columns-> {X_test.shape[1]}\")"
   ]
  },
  {
   "cell_type": "markdown",
   "id": "aa38a98a-b809-4c76-9a3b-98d364349a62",
   "metadata": {},
   "source": [
    "## Build the model"
   ]
  },
  {
   "cell_type": "code",
   "execution_count": 5,
   "id": "14b39fc7-b393-4935-ba25-06ab5f0c5a09",
   "metadata": {},
   "outputs": [],
   "source": [
    "def build_model(X_train):\n",
    "    mean=np.mean(X_train, axis=0)\n",
    "    variance=np.var(X_train, axis=0)\n",
    "\n",
    "    model=keras.Sequential([\n",
    "        keras.Input([X_train.shape[1]]),\n",
    "        layers.Normalization(mean=mean, variance=variance),\n",
    "        layers.Dense(64, activation=\"relu\"),\n",
    "        layers.Dense(1)\n",
    "    ])\n",
    "\n",
    "    optimizer = keras.optimizers.SGD()\n",
    "\n",
    "    model.compile(\n",
    "        optimizer=optimizer,\n",
    "        loss=\"mse\",\n",
    "        metrics=[keras.metrics.RootMeanSquaredError()]\n",
    "    )\n",
    "\n",
    "    return model"
   ]
  },
  {
   "cell_type": "markdown",
   "id": "a399d7da-adfd-43a3-8ee7-dea9ebaad055",
   "metadata": {},
   "source": [
    "## One trial block"
   ]
  },
  {
   "cell_type": "code",
   "execution_count": 6,
   "id": "9750541a-bac5-4066-a167-1a5aa3555f3c",
   "metadata": {},
   "outputs": [],
   "source": [
    "def trial_one_trial(params, X_train, X_val, y_train, y_val):\n",
    "    \"\"\"\n",
    "    Starts a child run → build → set hyperparam → fit → eval → log → return loss + return id\n",
    "    \"\"\"\n",
    "    with mlflow.start_run(nested=True) as run:\n",
    "        run_id = run.info.run_id\n",
    "\n",
    "        ## build and set hyperparams\n",
    "        model=build_model(X_train)\n",
    "        ## set the learning rate\n",
    "        model.optimizer.learning_rate = params[\"lr\"]\n",
    "        if hasattr(model.optimizer, \"momentum\"):\n",
    "            model.optimizer.momentum = params[\"momentum\"]\n",
    "\n",
    "        ## fit the model\n",
    "        history = model.fit(\n",
    "            X_train, y_train,\n",
    "            validation_data=(X_val, y_val),\n",
    "            epochs= EPOCHS,\n",
    "            batch_size=BATCH_SIZE,\n",
    "            verbose=1\n",
    "        )\n",
    "\n",
    "        # evaluate on validation data\n",
    "        val_loss, val_rmse = model.evaluate(\n",
    "            X_val,\n",
    "            y_val,\n",
    "            batch_size=BATCH_SIZE,\n",
    "            verbose=1\n",
    "        )\n",
    "\n",
    "        # log params with MLFLOW\n",
    "        mlflow.log_params({\n",
    "            \"lr\": float(params[\"lr\"]),\n",
    "            \"momentum\": float(params[\"momentum\"]),\n",
    "            \"epochs\": EPOCHS,\n",
    "            \"batch_size\": BATCH_SIZE,\n",
    "            \"seed\": SEED\n",
    "        })\n",
    "\n",
    "        # log metric\n",
    "        mlflow.log_metric(\"eval_rmse\", val_rmse)\n",
    "\n",
    "        # log the learning curve\n",
    "        for step, rmse in enumerate(history.history[\"val_root_mean_squared_error\"]):\n",
    "            mlflow.log_metric(\"val_rmse_epochs\", float(val_rmse), step=step)\n",
    "\n",
    "        # signature\n",
    "        signature = infer_signature(X_train, y_train)\n",
    "\n",
    "        # log model\n",
    "        mlflow.tensorflow.log_model(\n",
    "            model=model,\n",
    "            name=\"model\",\n",
    "            signature=signature,\n",
    "            input_example=X_train\n",
    "        )\n",
    "\n",
    "        return {\"loss\": val_rmse, \"status\": STATUS_OK, \"run_id\": run_id}"
   ]
  },
  {
   "cell_type": "markdown",
   "id": "2df85c18-3fa8-4ef5-a2ab-a764ec6c0f27",
   "metadata": {},
   "source": [
    "## objective for hyperopt"
   ]
  },
  {
   "cell_type": "code",
   "execution_count": 7,
   "id": "e6e723e6-2dfa-4822-a214-2c0985a960bd",
   "metadata": {},
   "outputs": [],
   "source": [
    "def objective(hparams):\n",
    "    return trial_one_trial(hparams, X_train, X_val, y_train, y_val)"
   ]
  },
  {
   "cell_type": "markdown",
   "id": "7cd765d2-7067-4b3e-8124-9d0fc7184a34",
   "metadata": {},
   "source": [
    "## Orchestration of the entire study"
   ]
  },
  {
   "cell_type": "code",
   "execution_count": 8,
   "id": "6eab4418-fb0a-4916-bb34-53eb758efdd4",
   "metadata": {},
   "outputs": [],
   "source": [
    "def run_study(max_evals=MAX_EVALS, register_name=None):\n",
    "    mlflow.end_run()\n",
    "\n",
    "    # dynamic run names\n",
    "    run_name = f\"wine_white__keras_sgd__tpe__{datetime.now().strftime('%Y%m%d_%H%M%S')}\"\n",
    "    \n",
    "    with mlflow.start_run(run_name=run_name) as parent_run:\n",
    "        trials=Trials()\n",
    "        best_params = fmin(\n",
    "            fn=objective,\n",
    "            space=HYPERPARAM_SPACE,\n",
    "            algo=tpe.suggest,\n",
    "            max_evals=MAX_EVALS,\n",
    "            trials=trials,\n",
    "            rstate=np.random.default_rng(SEED)\n",
    "        )\n",
    "        # pick the best child by loss\n",
    "        best_result = min(trials.results, key=lambda r:r[\"loss\"])\n",
    "        best_run_id = best_result[\"run_id\"]\n",
    "        best_loss = best_result[\"loss\"]\n",
    "\n",
    "        # summarize at parent level\n",
    "        mlflow.log_metric(\"best_eval_rmse\", best_loss)\n",
    "        mlflow.set_tag(\"best_child_run_id\", best_run_id)\n",
    "\n",
    "        # model registry\n",
    "        if register_name:\n",
    "            model_uri=f\"runs:/{best_run_id}/model\"\n",
    "            registered = mlflow.register_model(model_uri, register_name)\n",
    "            print(f\"Registered '{register_name}' v{registered.version} from run {best_run_id}\")\n",
    "\n",
    "        return best_params, best_run_id, best_loss"
   ]
  },
  {
   "cell_type": "markdown",
   "id": "391c101f-3d1a-45b7-a89c-af80647cf1f3",
   "metadata": {},
   "source": [
    "## LAUNCH!!!!"
   ]
  },
  {
   "cell_type": "code",
   "execution_count": 9,
   "id": "987cc010-4b31-4617-a474-adfe1e82a403",
   "metadata": {},
   "outputs": [
    {
     "name": "stdout",
     "output_type": "stream",
     "text": [
      "🏃 View run bright-rat-181 at: http://127.0.0.1:5000/#/experiments/250973868349298093/runs/1f043cbfcce54a7cb1544cef2daaa88e\n",
      "🧪 View experiment at: http://127.0.0.1:5000/#/experiments/250973868349298093\n",
      "Epoch 1/3                                                                                                                                       \n",
      "\n",
      "\u001b[1m 1/49\u001b[0m \u001b[37m━━━━━━━━━━━━━━━━━━━━\u001b[0m \u001b[1m5s\u001b[0m 110ms/step - loss: 35.8807 - root_mean_squared_error: 5.9901                             \n",
      "\u001b[1m49/49\u001b[0m \u001b[32m━━━━━━━━━━━━━━━━━━━━\u001b[0m\u001b[37m\u001b[0m \u001b[1m0s\u001b[0m 2ms/step - loss: 6.0195 - root_mean_squared_error: 2.4535 - val_loss: 1.7436 - val_root_mean_squared_error: 1.3205\n",
      "\n",
      "Epoch 2/3                                                                                                                                       \n",
      "\n",
      "\u001b[1m 1/49\u001b[0m \u001b[37m━━━━━━━━━━━━━━━━━━━━\u001b[0m \u001b[1m0s\u001b[0m 7ms/step - loss: 1.4685 - root_mean_squared_error: 1.2118                                \n",
      "\u001b[1m49/49\u001b[0m \u001b[32m━━━━━━━━━━━━━━━━━━━━\u001b[0m\u001b[37m\u001b[0m \u001b[1m0s\u001b[0m 722us/step - loss: 1.1794 - root_mean_squared_error: 1.0860 - val_loss: 1.1902 - val_root_mean_squared_error: 1.0910\n",
      "\n",
      "Epoch 3/3                                                                                                                                       \n",
      "\n",
      "\u001b[1m 1/49\u001b[0m \u001b[37m━━━━━━━━━━━━━━━━━━━━\u001b[0m \u001b[1m0s\u001b[0m 7ms/step - loss: 0.9475 - root_mean_squared_error: 0.9734                                \n",
      "\u001b[1m49/49\u001b[0m \u001b[32m━━━━━━━━━━━━━━━━━━━━\u001b[0m\u001b[37m\u001b[0m \u001b[1m0s\u001b[0m 724us/step - loss: 0.8999 - root_mean_squared_error: 0.9486 - val_loss: 0.9297 - val_root_mean_squared_error: 0.9642\n",
      "\n",
      "\u001b[1m 1/13\u001b[0m \u001b[32m━\u001b[0m\u001b[37m━━━━━━━━━━━━━━━━━━━\u001b[0m \u001b[1m0s\u001b[0m 6ms/step - loss: 0.6156 - root_mean_squared_error: 0.7846                       \n",
      "\u001b[1m13/13\u001b[0m \u001b[32m━━━━━━━━━━━━━━━━━━━━\u001b[0m\u001b[37m\u001b[0m \u001b[1m0s\u001b[0m 923us/step - loss: 0.9297 - root_mean_squared_error: 0.9642                     \n",
      "\n",
      "\u001b[1m 1/98\u001b[0m \u001b[37m━━━━━━━━━━━━━━━━━━━━\u001b[0m \u001b[1m1s\u001b[0m 13ms/step                                                                                \n",
      "\u001b[1m98/98\u001b[0m \u001b[32m━━━━━━━━━━━━━━━━━━━━\u001b[0m\u001b[37m\u001b[0m \u001b[1m0s\u001b[0m 310us/step                                                                      \n",
      "\n",
      "🏃 View run caring-squirrel-151 at: http://127.0.0.1:5000/#/experiments/250973868349298093/runs/d47a750a0372480485bd80011df30151                \n",
      "\n",
      "🧪 View experiment at: http://127.0.0.1:5000/#/experiments/250973868349298093                                                                   \n",
      "\n",
      "Epoch 1/3                                                                                                                                       \n",
      "\n",
      "\u001b[1m 1/49\u001b[0m \u001b[37m━━━━━━━━━━━━━━━━━━━━\u001b[0m \u001b[1m5s\u001b[0m 108ms/step - loss: 32.4613 - root_mean_squared_error: 5.6975                             \n",
      "\u001b[1m49/49\u001b[0m \u001b[32m━━━━━━━━━━━━━━━━━━━━\u001b[0m\u001b[37m\u001b[0m \u001b[1m0s\u001b[0m 2ms/step - loss: 9.6268 - root_mean_squared_error: 3.1027 - val_loss: 3.0455 - val_root_mean_squared_error: 1.7451\n",
      "\n",
      "Epoch 2/3                                                                                                                                       \n",
      "\n",
      "\u001b[1m 1/49\u001b[0m \u001b[37m━━━━━━━━━━━━━━━━━━━━\u001b[0m \u001b[1m0s\u001b[0m 7ms/step - loss: 2.6377 - root_mean_squared_error: 1.6241                                \n",
      "\u001b[1m49/49\u001b[0m \u001b[32m━━━━━━━━━━━━━━━━━━━━\u001b[0m\u001b[37m\u001b[0m \u001b[1m0s\u001b[0m 1ms/step - loss: 2.1723 - root_mean_squared_error: 1.4739 - val_loss: 2.4028 - val_root_mean_squared_error: 1.5501\n",
      "\n",
      "Epoch 3/3                                                                                                                                       \n",
      "\n",
      "\u001b[1m 1/49\u001b[0m \u001b[37m━━━━━━━━━━━━━━━━━━━━\u001b[0m \u001b[1m0s\u001b[0m 8ms/step - loss: 1.9748 - root_mean_squared_error: 1.4053                                \n",
      "\u001b[1m49/49\u001b[0m \u001b[32m━━━━━━━━━━━━━━━━━━━━\u001b[0m\u001b[37m\u001b[0m \u001b[1m0s\u001b[0m 706us/step - loss: 1.7483 - root_mean_squared_error: 1.3222 - val_loss: 2.0188 - val_root_mean_squared_error: 1.4208\n",
      "\n",
      "\u001b[1m 1/13\u001b[0m \u001b[32m━\u001b[0m\u001b[37m━━━━━━━━━━━━━━━━━━━\u001b[0m \u001b[1m0s\u001b[0m 6ms/step - loss: 1.4605 - root_mean_squared_error: 1.2085                       \n",
      "\u001b[1m13/13\u001b[0m \u001b[32m━━━━━━━━━━━━━━━━━━━━\u001b[0m\u001b[37m\u001b[0m \u001b[1m0s\u001b[0m 914us/step - loss: 2.0188 - root_mean_squared_error: 1.4208                     \n",
      "\n",
      "\u001b[1m 1/98\u001b[0m \u001b[37m━━━━━━━━━━━━━━━━━━━━\u001b[0m \u001b[1m1s\u001b[0m 13ms/step                                                                                \n",
      "\u001b[1m98/98\u001b[0m \u001b[32m━━━━━━━━━━━━━━━━━━━━\u001b[0m\u001b[37m\u001b[0m \u001b[1m0s\u001b[0m 314us/step                                                                      \n",
      "\n",
      "🏃 View run ambitious-hen-204 at: http://127.0.0.1:5000/#/experiments/250973868349298093/runs/dbabcaf945dd4297a0f36246d91acd8f                  \n",
      "\n",
      "🧪 View experiment at: http://127.0.0.1:5000/#/experiments/250973868349298093                                                                   \n",
      "\n",
      "Epoch 1/3                                                                                                                                       \n",
      "\n",
      "\u001b[1m 1/49\u001b[0m \u001b[37m━━━━━━━━━━━━━━━━━━━━\u001b[0m \u001b[1m5s\u001b[0m 110ms/step - loss: 34.6675 - root_mean_squared_error: 5.8879                             \n",
      "\u001b[1m49/49\u001b[0m \u001b[32m━━━━━━━━━━━━━━━━━━━━\u001b[0m\u001b[37m\u001b[0m \u001b[1m0s\u001b[0m 2ms/step - loss: 35.7760 - root_mean_squared_error: 5.9813 - val_loss: 35.5724 - val_root_mean_squared_error: 5.9643\n",
      "\n",
      "Epoch 2/3                                                                                                                                       \n",
      "\n",
      "\u001b[1m 1/49\u001b[0m \u001b[37m━━━━━━━━━━━━━━━━━━━━\u001b[0m \u001b[1m0s\u001b[0m 7ms/step - loss: 33.9840 - root_mean_squared_error: 5.8296                               \n",
      "\u001b[1m49/49\u001b[0m \u001b[32m━━━━━━━━━━━━━━━━━━━━\u001b[0m\u001b[37m\u001b[0m \u001b[1m0s\u001b[0m 1ms/step - loss: 35.0509 - root_mean_squared_error: 5.9204 - val_loss: 34.8628 - val_root_mean_squared_error: 5.9045\n",
      "\n",
      "Epoch 3/3                                                                                                                                       \n",
      "\n",
      "\u001b[1m 1/49\u001b[0m \u001b[37m━━━━━━━━━━━━━━━━━━━━\u001b[0m \u001b[1m0s\u001b[0m 8ms/step - loss: 33.3126 - root_mean_squared_error: 5.7717                               \n",
      "\u001b[1m49/49\u001b[0m \u001b[32m━━━━━━━━━━━━━━━━━━━━\u001b[0m\u001b[37m\u001b[0m \u001b[1m0s\u001b[0m 735us/step - loss: 34.3416 - root_mean_squared_error: 5.8602 - val_loss: 34.1688 - val_root_mean_squared_error: 5.8454\n",
      "\n",
      "\u001b[1m 1/13\u001b[0m \u001b[32m━\u001b[0m\u001b[37m━━━━━━━━━━━━━━━━━━━\u001b[0m \u001b[1m0s\u001b[0m 6ms/step - loss: 32.4319 - root_mean_squared_error: 5.6949                      \n",
      "\u001b[1m13/13\u001b[0m \u001b[32m━━━━━━━━━━━━━━━━━━━━\u001b[0m\u001b[37m\u001b[0m \u001b[1m0s\u001b[0m 845us/step - loss: 34.1688 - root_mean_squared_error: 5.8454                    \n",
      "\n",
      "\u001b[1m 1/98\u001b[0m \u001b[37m━━━━━━━━━━━━━━━━━━━━\u001b[0m \u001b[1m1s\u001b[0m 13ms/step                                                                                \n",
      "\u001b[1m98/98\u001b[0m \u001b[32m━━━━━━━━━━━━━━━━━━━━\u001b[0m\u001b[37m\u001b[0m \u001b[1m0s\u001b[0m 318us/step                                                                      \n",
      "\n",
      "🏃 View run calm-stoat-473 at: http://127.0.0.1:5000/#/experiments/250973868349298093/runs/1814e1e283ec41db872a3d51de47477f                     \n",
      "\n",
      "🧪 View experiment at: http://127.0.0.1:5000/#/experiments/250973868349298093                                                                   \n",
      "\n",
      "Epoch 1/3                                                                                                                                       \n",
      "\n",
      "\u001b[1m 1/49\u001b[0m \u001b[37m━━━━━━━━━━━━━━━━━━━━\u001b[0m \u001b[1m5s\u001b[0m 114ms/step - loss: 33.8563 - root_mean_squared_error: 5.8186                             \n",
      "\u001b[1m49/49\u001b[0m \u001b[32m━━━━━━━━━━━━━━━━━━━━\u001b[0m\u001b[37m\u001b[0m \u001b[1m0s\u001b[0m 2ms/step - loss: 33.5072 - root_mean_squared_error: 5.7885 - val_loss: 31.5943 - val_root_mean_squared_error: 5.6209\n",
      "\n",
      "Epoch 2/3                                                                                                                                       \n",
      "\n",
      "\u001b[1m 1/49\u001b[0m \u001b[37m━━━━━━━━━━━━━━━━━━━━\u001b[0m \u001b[1m0s\u001b[0m 8ms/step - loss: 30.2618 - root_mean_squared_error: 5.5011                               \n",
      "\u001b[1m49/49\u001b[0m \u001b[32m━━━━━━━━━━━━━━━━━━━━\u001b[0m\u001b[37m\u001b[0m \u001b[1m0s\u001b[0m 788us/step - loss: 29.7401 - root_mean_squared_error: 5.4535 - val_loss: 28.0964 - val_root_mean_squared_error: 5.3006\n",
      "\n",
      "Epoch 3/3                                                                                                                                       \n",
      "\n",
      "\u001b[1m 1/49\u001b[0m \u001b[37m━━━━━━━━━━━━━━━━━━━━\u001b[0m \u001b[1m0s\u001b[0m 8ms/step - loss: 27.0320 - root_mean_squared_error: 5.1992                               \n",
      "\u001b[1m49/49\u001b[0m \u001b[32m━━━━━━━━━━━━━━━━━━━━\u001b[0m\u001b[37m\u001b[0m \u001b[1m0s\u001b[0m 753us/step - loss: 26.4159 - root_mean_squared_error: 5.1396 - val_loss: 24.9987 - val_root_mean_squared_error: 4.9999\n",
      "\n",
      "\u001b[1m 1/13\u001b[0m \u001b[32m━\u001b[0m\u001b[37m━━━━━━━━━━━━━━━━━━━\u001b[0m \u001b[1m0s\u001b[0m 6ms/step - loss: 23.3458 - root_mean_squared_error: 4.8318                      \n",
      "\u001b[1m13/13\u001b[0m \u001b[32m━━━━━━━━━━━━━━━━━━━━\u001b[0m\u001b[37m\u001b[0m \u001b[1m0s\u001b[0m 894us/step - loss: 24.9987 - root_mean_squared_error: 4.9999                    \n",
      "\n",
      "\u001b[1m 1/98\u001b[0m \u001b[37m━━━━━━━━━━━━━━━━━━━━\u001b[0m \u001b[1m1s\u001b[0m 13ms/step                                                                                \n",
      "\u001b[1m98/98\u001b[0m \u001b[32m━━━━━━━━━━━━━━━━━━━━\u001b[0m\u001b[37m\u001b[0m \u001b[1m0s\u001b[0m 320us/step                                                                      \n",
      "\n",
      "🏃 View run loud-fish-886 at: http://127.0.0.1:5000/#/experiments/250973868349298093/runs/601b95eb7d3341538722919fd75a87a5                      \n",
      "\n",
      "🧪 View experiment at: http://127.0.0.1:5000/#/experiments/250973868349298093                                                                   \n",
      "\n",
      "100%|███████████████████████████████████████████████████████████████████████████| 4/4 [00:13<00:00,  3.47s/trial, best loss: 0.9642291069030762]"
     ]
    },
    {
     "name": "stderr",
     "output_type": "stream",
     "text": [
      "Registered model 'best wine model' already exists. Creating a new version of this model...\n",
      "2025/08/10 19:00:39 WARNING mlflow.tracking._model_registry.fluent: Run with id d47a750a0372480485bd80011df30151 has no artifacts at artifact path 'model', registering model based on models:/m-ecb0baf1cfee4b35ac44a95a041d13dd instead\n",
      "2025/08/10 19:00:39 INFO mlflow.store.model_registry.abstract_store: Waiting up to 300 seconds for model version to finish creation. Model name: best wine model, version 2\n"
     ]
    },
    {
     "name": "stdout",
     "output_type": "stream",
     "text": [
      "\n",
      "Registered 'best wine model' v2 from run d47a750a0372480485bd80011df30151\n",
      "🏃 View run wine_white__keras_sgd__tpe__20250810_190025 at: http://127.0.0.1:5000/#/experiments/250973868349298093/runs/ce77a86d19a74090b27d7d98ab280953\n",
      "🧪 View experiment at: http://127.0.0.1:5000/#/experiments/250973868349298093\n",
      "Best params: {'lr': np.float64(0.0030232634294854017), 'momentum': np.float64(0.8136554076402878)}\n",
      "Best child run_id: d47a750a0372480485bd80011df30151\n",
      "Best eval RMSE: 0.9642291069030762\n"
     ]
    },
    {
     "name": "stderr",
     "output_type": "stream",
     "text": [
      "Created version '2' of model 'best wine model'.\n"
     ]
    }
   ],
   "source": [
    "best_params, best_run_id, best_loss = run_study(register_name=\"best wine model\")\n",
    "print(\"Best params:\", best_params)\n",
    "print(\"Best child run_id:\", best_run_id)\n",
    "print(\"Best eval RMSE:\", best_loss)"
   ]
  },
  {
   "cell_type": "markdown",
   "id": "88abf779-16c1-4671-a7dd-e458e7a9ff1d",
   "metadata": {},
   "source": [
    "## load the model - best one"
   ]
  },
  {
   "cell_type": "code",
   "execution_count": 11,
   "id": "307b1cdb-5024-41c8-a2c5-0e2c83cdd922",
   "metadata": {},
   "outputs": [
    {
     "data": {
      "application/vnd.jupyter.widget-view+json": {
       "model_id": "12f2a8d13b734feca258e9cd5ed0bf8a",
       "version_major": 2,
       "version_minor": 0
      },
      "text/plain": [
       "Downloading artifacts:   0%|          | 0/9 [00:00<?, ?it/s]"
      ]
     },
     "metadata": {},
     "output_type": "display_data"
    }
   ],
   "source": [
    "from mlflow import tensorflow as mlflow_tf\n",
    "\n",
    "best_model = mlflow_tf.load_model('models:/best wine model/2')"
   ]
  },
  {
   "cell_type": "code",
   "execution_count": 12,
   "id": "1cbca332-985c-4d84-8867-c9f9f0ea2bd4",
   "metadata": {},
   "outputs": [
    {
     "name": "stdout",
     "output_type": "stream",
     "text": [
      "\u001b[1m31/31\u001b[0m \u001b[32m━━━━━━━━━━━━━━━━━━━━\u001b[0m\u001b[37m\u001b[0m \u001b[1m0s\u001b[0m 701us/step\n",
      "Test RMSE: 0.7805\n"
     ]
    }
   ],
   "source": [
    "y_pred_best = best_model.predict(X_test)\n",
    "\n",
    "from sklearn.metrics import mean_squared_error\n",
    "\n",
    "test_rmse = mean_squared_error(y_test, y_pred_best)\n",
    "print(f\"Test RMSE: {test_rmse:.4f}\")"
   ]
  },
  {
   "cell_type": "code",
   "execution_count": 13,
   "id": "6f0dd328-55cd-4f03-bcdb-901656ca4c88",
   "metadata": {},
   "outputs": [
    {
     "name": "stdout",
     "output_type": "stream",
     "text": [
      "🏃 View run caring-squirrel-151 at: http://127.0.0.1:5000/#/experiments/250973868349298093/runs/d47a750a0372480485bd80011df30151\n",
      "🧪 View experiment at: http://127.0.0.1:5000/#/experiments/250973868349298093\n"
     ]
    }
   ],
   "source": [
    "## log the best model's test score\n",
    "with mlflow.start_run(run_id=\"d47a750a0372480485bd80011df30151\"):\n",
    "    mlflow.log_metric(\"test_rmse\", test_rmse)\n",
    "    mlflow.set_tag(\"run_id\", \"d47a750a0372480485bd80011df30151\")\n",
    "    mlflow.set_tag(\"run_name\", \"caring-squirrel-151\")\n",
    "    mlflow.set_tag(\"best_model_eval\",\"yes\")"
   ]
  }
 ],
 "metadata": {
  "kernelspec": {
   "display_name": "Python (mlflow)",
   "language": "python",
   "name": "mlflow"
  },
  "language_info": {
   "codemirror_mode": {
    "name": "ipython",
    "version": 3
   },
   "file_extension": ".py",
   "mimetype": "text/x-python",
   "name": "python",
   "nbconvert_exporter": "python",
   "pygments_lexer": "ipython3",
   "version": "3.10.0"
  }
 },
 "nbformat": 4,
 "nbformat_minor": 5
}
